{
 "cells": [
  {
   "cell_type": "markdown",
   "metadata": {},
   "source": [
    "This project is a timeseries-forecasting of MSFT ( microsoft ) daily closing stock prices using the fbprophet model as recommended by the professor. It uses more than 3 decades of weekday data to predict the next 7 days of stock prices, however some values are missing in the dataset. It uses concepts taught in class -- especially cross-validation for hyperparameter-tuning.\n",
    "\n",
    "Although brief, it took great effort since I had to learn python and how to use Jupyter notebooks and the fbprophet API. I thank Dr. Venugopal and Ryan Wickman for helping me when I was stuck somewhere. It has been a very rewarding challenge for me since I had to spend many hours reading documentation and forums, which taught me a lot about the practicalities of ML and forecasting.\n",
    "\n",
    "---"
   ]
  },
  {
   "cell_type": "code",
   "execution_count": 1,
   "metadata": {},
   "outputs": [],
   "source": [
    "import numpy as np\n",
    "from data_loader import *\n",
    "import pandas as pd\n",
    "from prophet import Prophet\n",
    "import matplotlib.pyplot as pyplot\n",
    "from sklearn.metrics import mean_absolute_error\n",
    "from prophet.diagnostics import cross_validation\n",
    "import itertools\n",
    "from prophet.diagnostics import performance_metrics"
   ]
  },
  {
   "cell_type": "markdown",
   "metadata": {},
   "source": [
    "The first thing we do is to import the data. Then, we change its shape to the format accepted by the fbprophet model."
   ]
  },
  {
   "cell_type": "code",
   "execution_count": 2,
   "metadata": {},
   "outputs": [
    {
     "name": "stdout",
     "output_type": "stream",
     "text": [
      "        Date      Open      High       Low     Close  Adj Close      Volume\n",
      "0 1986-03-13  0.088542  0.101563  0.088542  0.097222   0.061751  1031788800\n",
      "1 1986-03-14  0.097222  0.102431  0.097222  0.100694   0.063956   308160000\n",
      "2 1986-03-17  0.100694  0.103299  0.100694  0.102431   0.065059   133171200\n",
      "3 1986-03-18  0.102431  0.103299  0.098958  0.099826   0.063405    67766400\n",
      "4 1986-03-19  0.099826  0.100694  0.097222  0.098090   0.062302    47894400\n"
     ]
    }
   ],
   "source": [
    "df_original = pd.read_csv(\"data/MSFT.csv\")\n",
    "df_original['Date'] = pd.to_datetime(df_original.Date, format='%Y-%m-%d')\n",
    "print(df_original.head())"
   ]
  },
  {
   "cell_type": "markdown",
   "metadata": {},
   "source": [
    "We then split it into training and test sets. Here, the training set is mainly used for hyperparameter tuning."
   ]
  },
  {
   "cell_type": "code",
   "execution_count": 3,
   "metadata": {},
   "outputs": [
    {
     "name": "stdout",
     "output_type": "stream",
     "text": [
      "          ds         y\n",
      "0 1986-03-13  0.061751\n",
      "1 1986-03-14  0.063956\n",
      "2 1986-03-17  0.065059\n",
      "3 1986-03-18  0.063405\n",
      "4 1986-03-19  0.062302\n"
     ]
    }
   ],
   "source": [
    "prophet_df = df_original[['Date','Adj Close']]\n",
    "prophet_df = prophet_df.rename(columns = {'Date':'ds'})\n",
    "prophet_df = prophet_df.rename(columns = {'Adj Close':'y'})\n",
    "print(prophet_df.head())\n",
    "\n",
    "train_mask = (prophet_df[\"ds\"] < \"2019-01-01\")\n",
    "test_mask = (prophet_df[\"ds\"] >= \"2019-01-01\") & (prophet_df[\"ds\"] < \"2020-01-01\")\n",
    "\n",
    "train_set = prophet_df.loc[train_mask]\n",
    "test_set = prophet_df.loc[test_mask]\n"
   ]
  },
  {
   "cell_type": "markdown",
   "metadata": {},
   "source": [
    "In the cells below, we first tune two parameters and then the third. Tuning them altogether would take too long since the third parameter is a different type that needs to be tuned over very large timeseries. So we make a reasonable assumption that its optimal value is independent of the values of the other two."
   ]
  },
  {
   "cell_type": "code",
   "execution_count": 5,
   "metadata": {},
   "outputs": [
    {
     "name": "stderr",
     "output_type": "stream",
     "text": [
      "INFO:prophet:Disabling daily seasonality. Run prophet with daily_seasonality=True to override this.\n",
      "INFO:prophet:Making 9 forecasts with cutoffs between 2017-01-03 00:00:00 and 2018-12-24 00:00:00\n",
      "INFO:prophet:Applying in parallel with <concurrent.futures.process.ProcessPoolExecutor object at 0x7f5bdcf04880>\n",
      "INFO:prophet:Disabling daily seasonality. Run prophet with daily_seasonality=True to override this.\n",
      "INFO:prophet:Making 9 forecasts with cutoffs between 2017-01-03 00:00:00 and 2018-12-24 00:00:00\n",
      "INFO:prophet:Applying in parallel with <concurrent.futures.process.ProcessPoolExecutor object at 0x7f5b8590aa00>\n",
      "INFO:prophet:Disabling daily seasonality. Run prophet with daily_seasonality=True to override this.\n",
      "INFO:prophet:Making 9 forecasts with cutoffs between 2017-01-03 00:00:00 and 2018-12-24 00:00:00\n",
      "INFO:prophet:Applying in parallel with <concurrent.futures.process.ProcessPoolExecutor object at 0x7f5ba6a6b850>\n",
      "INFO:prophet:Disabling daily seasonality. Run prophet with daily_seasonality=True to override this.\n",
      "INFO:prophet:Making 9 forecasts with cutoffs between 2017-01-03 00:00:00 and 2018-12-24 00:00:00\n",
      "INFO:prophet:Applying in parallel with <concurrent.futures.process.ProcessPoolExecutor object at 0x7f5ba6bb8c40>\n",
      "INFO:prophet:Disabling daily seasonality. Run prophet with daily_seasonality=True to override this.\n",
      "INFO:prophet:Making 9 forecasts with cutoffs between 2017-01-03 00:00:00 and 2018-12-24 00:00:00\n",
      "INFO:prophet:Applying in parallel with <concurrent.futures.process.ProcessPoolExecutor object at 0x7f5b85973400>\n",
      "INFO:prophet:Disabling daily seasonality. Run prophet with daily_seasonality=True to override this.\n",
      "INFO:prophet:Making 9 forecasts with cutoffs between 2017-01-03 00:00:00 and 2018-12-24 00:00:00\n",
      "INFO:prophet:Applying in parallel with <concurrent.futures.process.ProcessPoolExecutor object at 0x7f5bdd7b0e50>\n",
      "INFO:prophet:Disabling daily seasonality. Run prophet with daily_seasonality=True to override this.\n",
      "INFO:prophet:Making 9 forecasts with cutoffs between 2017-01-03 00:00:00 and 2018-12-24 00:00:00\n",
      "INFO:prophet:Applying in parallel with <concurrent.futures.process.ProcessPoolExecutor object at 0x7f5b85904700>\n",
      "INFO:prophet:Disabling daily seasonality. Run prophet with daily_seasonality=True to override this.\n",
      "INFO:prophet:Making 9 forecasts with cutoffs between 2017-01-03 00:00:00 and 2018-12-24 00:00:00\n",
      "INFO:prophet:Applying in parallel with <concurrent.futures.process.ProcessPoolExecutor object at 0x7f5bdcf182b0>\n",
      "INFO:prophet:Disabling daily seasonality. Run prophet with daily_seasonality=True to override this.\n",
      "INFO:prophet:Making 9 forecasts with cutoffs between 2017-01-03 00:00:00 and 2018-12-24 00:00:00\n",
      "INFO:prophet:Applying in parallel with <concurrent.futures.process.ProcessPoolExecutor object at 0x7f5bdd7aa130>\n",
      "INFO:prophet:Disabling daily seasonality. Run prophet with daily_seasonality=True to override this.\n",
      "INFO:prophet:Making 9 forecasts with cutoffs between 2017-01-03 00:00:00 and 2018-12-24 00:00:00\n",
      "INFO:prophet:Applying in parallel with <concurrent.futures.process.ProcessPoolExecutor object at 0x7f5bdcf18250>\n",
      "INFO:prophet:Disabling daily seasonality. Run prophet with daily_seasonality=True to override this.\n",
      "INFO:prophet:Making 9 forecasts with cutoffs between 2017-01-03 00:00:00 and 2018-12-24 00:00:00\n",
      "INFO:prophet:Applying in parallel with <concurrent.futures.process.ProcessPoolExecutor object at 0x7f5b8587adf0>\n",
      "INFO:prophet:Disabling daily seasonality. Run prophet with daily_seasonality=True to override this.\n",
      "INFO:prophet:Making 9 forecasts with cutoffs between 2017-01-03 00:00:00 and 2018-12-24 00:00:00\n",
      "INFO:prophet:Applying in parallel with <concurrent.futures.process.ProcessPoolExecutor object at 0x7f5b858ea3d0>\n",
      "INFO:prophet:Disabling daily seasonality. Run prophet with daily_seasonality=True to override this.\n",
      "INFO:prophet:Making 9 forecasts with cutoffs between 2017-01-03 00:00:00 and 2018-12-24 00:00:00\n",
      "INFO:prophet:Applying in parallel with <concurrent.futures.process.ProcessPoolExecutor object at 0x7f5bdcf04250>\n",
      "INFO:prophet:Disabling daily seasonality. Run prophet with daily_seasonality=True to override this.\n",
      "INFO:prophet:Making 9 forecasts with cutoffs between 2017-01-03 00:00:00 and 2018-12-24 00:00:00\n",
      "INFO:prophet:Applying in parallel with <concurrent.futures.process.ProcessPoolExecutor object at 0x7f5bdcf04880>\n",
      "INFO:prophet:Disabling daily seasonality. Run prophet with daily_seasonality=True to override this.\n",
      "INFO:prophet:Making 9 forecasts with cutoffs between 2017-01-03 00:00:00 and 2018-12-24 00:00:00\n",
      "INFO:prophet:Applying in parallel with <concurrent.futures.process.ProcessPoolExecutor object at 0x7f5b858c70a0>\n",
      "INFO:prophet:Disabling daily seasonality. Run prophet with daily_seasonality=True to override this.\n",
      "INFO:prophet:Making 9 forecasts with cutoffs between 2017-01-03 00:00:00 and 2018-12-24 00:00:00\n",
      "INFO:prophet:Applying in parallel with <concurrent.futures.process.ProcessPoolExecutor object at 0x7f5b872c2070>\n",
      "    changepoint_prior_scale  seasonality_prior_scale      mape\n",
      "0                     0.001                     0.01  0.296355\n",
      "1                     0.001                     0.10  0.297311\n",
      "2                     0.001                     1.00  0.297056\n",
      "3                     0.001                    10.00  0.296400\n",
      "4                     0.010                     0.01  0.169383\n",
      "5                     0.010                     0.10  0.169489\n",
      "6                     0.010                     1.00  0.169610\n",
      "7                     0.010                    10.00  0.169555\n",
      "8                     0.100                     0.01  0.157940\n",
      "9                     0.100                     0.10  0.157966\n",
      "10                    0.100                     1.00  0.158015\n",
      "11                    0.100                    10.00  0.157959\n",
      "12                    0.500                     0.01  0.156952\n",
      "13                    0.500                     0.10  0.156991\n",
      "14                    0.500                     1.00  0.156959\n",
      "15                    0.500                    10.00  0.157012\n",
      "{'changepoint_prior_scale': 0.5, 'seasonality_prior_scale': 0.01}\n"
     ]
    }
   ],
   "source": [
    "param_grid = {  \n",
    "    'changepoint_prior_scale': [0.001, 0.01, 0.1, 0.5],\n",
    "    'seasonality_prior_scale': [0.01, 0.1, 1.0, 10.0],\n",
    "}\n",
    "\n",
    "# Generate all combinations of parameters\n",
    "all_params = [dict(zip(param_grid.keys(), v)) for v in itertools.product(*param_grid.values())]\n",
    "mapes = []  # Store the MAPEs for each params here\n",
    "\n",
    "# Use cross validation to evaluate all parameters\n",
    "for params in all_params:\n",
    "    m = Prophet(**params).fit(train_set)  # Fit model with given params\n",
    "    df_cv = cross_validation(m, initial='11251 days', period='90 days', horizon='7 days', parallel=\"processes\")\n",
    "    df_p = performance_metrics(df_cv, rolling_window=1)\n",
    "    mapes.append(df_p['mape'].values[0])\n",
    "\n",
    "# Find the best parameters\n",
    "tuning_results = pd.DataFrame(all_params)\n",
    "tuning_results['mape'] = mapes\n",
    "print(tuning_results)\n",
    "\n",
    "best_params = all_params[np.argmin(mapes)]\n",
    "print(best_params)\n"
   ]
  },
  {
   "cell_type": "code",
   "execution_count": 6,
   "metadata": {},
   "outputs": [
    {
     "name": "stderr",
     "output_type": "stream",
     "text": [
      "INFO:prophet:Disabling daily seasonality. Run prophet with daily_seasonality=True to override this.\n",
      "INFO:prophet:Making 42 forecasts with cutoffs between 2005-07-05 00:00:00 and 2018-12-24 00:00:00\n",
      "INFO:prophet:Applying in parallel with <concurrent.futures.process.ProcessPoolExecutor object at 0x7f5bc537ecd0>\n",
      "INFO:prophet:Disabling daily seasonality. Run prophet with daily_seasonality=True to override this.\n",
      "INFO:prophet:Making 42 forecasts with cutoffs between 2005-07-05 00:00:00 and 2018-12-24 00:00:00\n",
      "INFO:prophet:Applying in parallel with <concurrent.futures.process.ProcessPoolExecutor object at 0x7f5bc53f6340>\n",
      "INFO:prophet:Disabling daily seasonality. Run prophet with daily_seasonality=True to override this.\n",
      "INFO:prophet:Making 42 forecasts with cutoffs between 2005-07-05 00:00:00 and 2018-12-24 00:00:00\n",
      "INFO:prophet:Applying in parallel with <concurrent.futures.process.ProcessPoolExecutor object at 0x7f5bdcf04250>\n",
      "INFO:prophet:Disabling daily seasonality. Run prophet with daily_seasonality=True to override this.\n",
      "INFO:prophet:Making 42 forecasts with cutoffs between 2005-07-05 00:00:00 and 2018-12-24 00:00:00\n",
      "INFO:prophet:Applying in parallel with <concurrent.futures.process.ProcessPoolExecutor object at 0x7f5bc53f6e80>\n",
      "   changepoint_prior_scale  seasonality_prior_scale  changepoint_range  \\\n",
      "0                      0.5                     0.01               0.80   \n",
      "1                      0.5                     0.01               0.85   \n",
      "2                      0.5                     0.01               0.90   \n",
      "3                      0.5                     0.01               0.95   \n",
      "\n",
      "       mape  \n",
      "0  0.111694  \n",
      "1  0.095867  \n",
      "2  0.092654  \n",
      "3  0.076704  \n",
      "{'changepoint_prior_scale': 0.5, 'seasonality_prior_scale': 0.01, 'changepoint_range': 0.95}\n"
     ]
    }
   ],
   "source": [
    "param_grid = {  \n",
    "    'changepoint_prior_scale': [0.5], \n",
    "    'seasonality_prior_scale': [0.01],\n",
    "    'changepoint_range': [0.8, 0.85, 0.9, 0.95],\n",
    "}\n",
    "\n",
    "# Generate all combinations of parameters\n",
    "all_params = [dict(zip(param_grid.keys(), v)) for v in itertools.product(*param_grid.values())]\n",
    "mapes = []  # Store the MAPEs for each params here\n",
    "\n",
    "# Use cross validation to evaluate all parameters\n",
    "for params in all_params:\n",
    "    m = Prophet(**params).fit(train_set)  # Fit model with given params\n",
    "    df_cv = cross_validation(m, initial='7000 days', period='120 days', horizon='7 days', parallel=\"processes\")\n",
    "    df_p = performance_metrics(df_cv, rolling_window=1)\n",
    "    mapes.append(df_p['mape'].values[0])\n",
    "\n",
    "# Find the best parameters\n",
    "tuning_results = pd.DataFrame(all_params)\n",
    "tuning_results['mape'] = mapes\n",
    "print(tuning_results)\n",
    "\n",
    "best_params = all_params[np.argmin(mapes)]\n",
    "print(best_params)"
   ]
  },
  {
   "cell_type": "markdown",
   "metadata": {},
   "source": [
    "On these tuned hyperparameter values, we test the fbprophet using the test set of data."
   ]
  },
  {
   "cell_type": "code",
   "execution_count": 11,
   "metadata": {},
   "outputs": [
    {
     "name": "stderr",
     "output_type": "stream",
     "text": [
      "INFO:prophet:Disabling yearly seasonality. Run prophet with yearly_seasonality=True to override this.\n",
      "INFO:prophet:Disabling daily seasonality. Run prophet with daily_seasonality=True to override this.\n"
     ]
    },
    {
     "data": {
      "text/plain": [
       "<prophet.forecaster.Prophet at 0x7fc2fd629eb0>"
      ]
     },
     "execution_count": 11,
     "metadata": {},
     "output_type": "execute_result"
    }
   ],
   "source": [
    "m = Prophet(seasonality_mode='multiplicative',changepoint_prior_scale=0.5,seasonality_prior_scale=10,changepoint_range=0.95)\n",
    "m.fit(test_set)\n"
   ]
  },
  {
   "cell_type": "code",
   "execution_count": 12,
   "metadata": {},
   "outputs": [
    {
     "name": "stderr",
     "output_type": "stream",
     "text": [
      "INFO:prophet:Making 24 forecasts with cutoffs between 2019-02-05 00:00:00 and 2019-12-24 00:00:00\n"
     ]
    },
    {
     "data": {
      "application/vnd.jupyter.widget-view+json": {
       "model_id": "a1573289aab040869b1d785b3d836d98",
       "version_major": 2,
       "version_minor": 0
      },
      "text/plain": [
       "  0%|          | 0/24 [00:00<?, ?it/s]"
      ]
     },
     "metadata": {},
     "output_type": "display_data"
    },
    {
     "name": "stderr",
     "output_type": "stream",
     "text": [
      "INFO:prophet:n_changepoints greater than number of observations. Using 21.\n"
     ]
    },
    {
     "data": {
      "text/html": [
       "<div>\n",
       "<style scoped>\n",
       "    .dataframe tbody tr th:only-of-type {\n",
       "        vertical-align: middle;\n",
       "    }\n",
       "\n",
       "    .dataframe tbody tr th {\n",
       "        vertical-align: top;\n",
       "    }\n",
       "\n",
       "    .dataframe thead th {\n",
       "        text-align: right;\n",
       "    }\n",
       "</style>\n",
       "<table border=\"1\" class=\"dataframe\">\n",
       "  <thead>\n",
       "    <tr style=\"text-align: right;\">\n",
       "      <th></th>\n",
       "      <th>horizon</th>\n",
       "      <th>mse</th>\n",
       "      <th>rmse</th>\n",
       "      <th>mae</th>\n",
       "      <th>mape</th>\n",
       "      <th>mdape</th>\n",
       "      <th>smape</th>\n",
       "      <th>coverage</th>\n",
       "    </tr>\n",
       "  </thead>\n",
       "  <tbody>\n",
       "    <tr>\n",
       "      <th>2</th>\n",
       "      <td>3 days</td>\n",
       "      <td>11.690910</td>\n",
       "      <td>3.419197</td>\n",
       "      <td>2.231122</td>\n",
       "      <td>0.071165</td>\n",
       "      <td>0.043069</td>\n",
       "      <td>0.069873</td>\n",
       "      <td>0.558824</td>\n",
       "    </tr>\n",
       "    <tr>\n",
       "      <th>3</th>\n",
       "      <td>4 days</td>\n",
       "      <td>11.490131</td>\n",
       "      <td>3.389710</td>\n",
       "      <td>2.222637</td>\n",
       "      <td>0.079886</td>\n",
       "      <td>0.045179</td>\n",
       "      <td>0.078976</td>\n",
       "      <td>0.514286</td>\n",
       "    </tr>\n",
       "    <tr>\n",
       "      <th>4</th>\n",
       "      <td>5 days</td>\n",
       "      <td>6.753642</td>\n",
       "      <td>2.598777</td>\n",
       "      <td>2.123525</td>\n",
       "      <td>0.082913</td>\n",
       "      <td>0.052493</td>\n",
       "      <td>0.083744</td>\n",
       "      <td>0.441176</td>\n",
       "    </tr>\n",
       "    <tr>\n",
       "      <th>5</th>\n",
       "      <td>6 days</td>\n",
       "      <td>9.008732</td>\n",
       "      <td>3.001455</td>\n",
       "      <td>2.388808</td>\n",
       "      <td>0.075657</td>\n",
       "      <td>0.053617</td>\n",
       "      <td>0.078399</td>\n",
       "      <td>0.424242</td>\n",
       "    </tr>\n",
       "    <tr>\n",
       "      <th>6</th>\n",
       "      <td>7 days</td>\n",
       "      <td>14.622048</td>\n",
       "      <td>3.823879</td>\n",
       "      <td>2.681030</td>\n",
       "      <td>0.078260</td>\n",
       "      <td>0.058324</td>\n",
       "      <td>0.080723</td>\n",
       "      <td>0.457143</td>\n",
       "    </tr>\n",
       "  </tbody>\n",
       "</table>\n",
       "</div>"
      ],
      "text/plain": [
       "  horizon        mse      rmse       mae      mape     mdape     smape  \\\n",
       "2  3 days  11.690910  3.419197  2.231122  0.071165  0.043069  0.069873   \n",
       "3  4 days  11.490131  3.389710  2.222637  0.079886  0.045179  0.078976   \n",
       "4  5 days   6.753642  2.598777  2.123525  0.082913  0.052493  0.083744   \n",
       "5  6 days   9.008732  3.001455  2.388808  0.075657  0.053617  0.078399   \n",
       "6  7 days  14.622048  3.823879  2.681030  0.078260  0.058324  0.080723   \n",
       "\n",
       "   coverage  \n",
       "2  0.558824  \n",
       "3  0.514286  \n",
       "4  0.441176  \n",
       "5  0.424242  \n",
       "6  0.457143  "
      ]
     },
     "execution_count": 12,
     "metadata": {},
     "output_type": "execute_result"
    }
   ],
   "source": [
    "df_cv_test = cross_validation(m, period='14 days', horizon = '7 days')\n",
    "df_p = performance_metrics(df_cv)\n",
    "df_p.tail()"
   ]
  },
  {
   "cell_type": "markdown",
   "metadata": {},
   "source": [
    "We see that the MAPE is <0.1 which is excellent.\n",
    "MAPE = Mean Average Percentage Error\n",
    "This is an error metric that is considered very useful/apt for timeseries forecasting."
   ]
  }
 ],
 "metadata": {
  "kernelspec": {
   "display_name": "Python 3",
   "language": "python",
   "name": "python3"
  },
  "language_info": {
   "codemirror_mode": {
    "name": "ipython",
    "version": 3
   },
   "file_extension": ".py",
   "mimetype": "text/x-python",
   "name": "python",
   "nbconvert_exporter": "python",
   "pygments_lexer": "ipython3",
   "version": "3.7.9"
  },
  "metadata": {
   "interpreter": {
    "hash": "916dbcbb3f70747c44a77c7bcd40155683ae19c65e1c03b4aa3499c5328201f1"
   }
  }
 },
 "nbformat": 4,
 "nbformat_minor": 2
}
